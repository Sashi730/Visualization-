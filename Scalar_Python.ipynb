{
 "cells": [
  {
   "cell_type": "markdown",
   "id": "daf13ed0-1d1d-49d0-974e-ae04d2a5387c",
   "metadata": {},
   "source": [
    "## Check a Number is Prime or Not"
   ]
  },
  {
   "cell_type": "code",
   "execution_count": 5,
   "id": "19f0c1c6-f2af-4c81-ab59-e28f64c21224",
   "metadata": {},
   "outputs": [
    {
     "name": "stdin",
     "output_type": "stream",
     "text": [
      "Enter a Number: 7\n"
     ]
    },
    {
     "name": "stdout",
     "output_type": "stream",
     "text": [
      "7 is a prime Number\n"
     ]
    }
   ],
   "source": [
    "# Write A Program To Check Wheather a Number Is Prime or Not\n",
    "num=int(input(\"Enter a Number:\"))\n",
    "isPrime=False\n",
    "i=2\n",
    "while i<num:\n",
    "    if num%i==0:\n",
    "        isPrime=True\n",
    "    i+=1\n",
    "\n",
    "if isPrime:\n",
    "    print(\"{} is Not a Prime Number\".format(num))\n",
    "else:\n",
    "    print(\"{} is a prime Number\".format(num))\n",
    "    "
   ]
  },
  {
   "cell_type": "markdown",
   "id": "ff4dcb37-eac0-428e-aa56-2cd5f465d087",
   "metadata": {},
   "source": [
    "## Print Prime Number Between a Range"
   ]
  },
  {
   "cell_type": "code",
   "execution_count": 3,
   "id": "7f49698f-22ae-40ac-bf3e-86f311a76d3e",
   "metadata": {},
   "outputs": [
    {
     "name": "stdin",
     "output_type": "stream",
     "text": [
      "Enter The First Number: 1\n",
      "Enter The Second Number: 10\n"
     ]
    },
    {
     "name": "stdout",
     "output_type": "stream",
     "text": [
      "2 3 5 7 "
     ]
    }
   ],
   "source": [
    "# Write a Program To Print Prime Number From a Range\n",
    "num1=int(input(\"Enter The First Number:\"))\n",
    "num2=int(input(\"Enter The Second Number:\"))\n",
    "for num in range(num1,num2+1):\n",
    "    if num>1:\n",
    "        isPrime=False\n",
    "        for p in range(2,num):\n",
    "            if num%p==0:\n",
    "                isPrime=True\n",
    "        if not isPrime:\n",
    "             print(num,end=\" \")"
   ]
  },
  {
   "cell_type": "markdown",
   "id": "1850424d-8f63-4f71-be47-8774ea9c4905",
   "metadata": {},
   "source": [
    "## Break StateMent"
   ]
  },
  {
   "cell_type": "code",
   "execution_count": 6,
   "id": "2b0beac6-9782-468c-ac84-e84a5f0e9f1d",
   "metadata": {},
   "outputs": [
    {
     "name": "stdout",
     "output_type": "stream",
     "text": [
      "1\n",
      "2\n",
      "3\n",
      "4\n"
     ]
    }
   ],
   "source": [
    "for i in range(1,10):\n",
    "    if i==5:\n",
    "        break\n",
    "    print(i)\n",
    "else:\n",
    "    print(\"For Loop End\")"
   ]
  },
  {
   "cell_type": "markdown",
   "id": "a608d23c-cee0-4d2c-9588-2c6016ea3fe4",
   "metadata": {},
   "source": [
    "### Continue Statement With Else statement"
   ]
  },
  {
   "cell_type": "code",
   "execution_count": 8,
   "id": "9a5eac6d-24b1-4c71-89ab-b18daf1c9b7f",
   "metadata": {},
   "outputs": [
    {
     "name": "stdout",
     "output_type": "stream",
     "text": [
      "1\n",
      "3\n",
      "5\n",
      "7\n",
      "9\n",
      "For Loop End\n"
     ]
    }
   ],
   "source": [
    "for i in range(1,10):\n",
    "    if i%2==0:\n",
    "        continue\n",
    "    print(i)\n",
    "else:\n",
    "    print(\"For Loop End\")"
   ]
  },
  {
   "cell_type": "markdown",
   "id": "cd54c4ee-66a6-4ab5-a512-a240255d34db",
   "metadata": {},
   "source": [
    "## Greater Number Between 3 Number"
   ]
  },
  {
   "cell_type": "code",
   "execution_count": 9,
   "id": "393e925f-4577-41a6-933e-5cfdaffc70b3",
   "metadata": {},
   "outputs": [
    {
     "name": "stdin",
     "output_type": "stream",
     "text": [
      "Enter The First Number: 34\n",
      "Enter The Second Number: 90\n",
      "Enter The Third Number: 76\n"
     ]
    },
    {
     "name": "stdout",
     "output_type": "stream",
     "text": [
      "90 is greater\n"
     ]
    }
   ],
   "source": [
    "num1=int(input(\"Enter The First Number:\"))\n",
    "num2=int(input(\"Enter The Second Number:\"))\n",
    "num3=int(input(\"Enter The Third Number:\"))\n",
    "if num1>=num2:\n",
    "    if num1>=num3:\n",
    "        print(\"{} is Greater\".format(num1))\n",
    "    else:\n",
    "        print(\"{} is greater\".format(num3))\n",
    "else:\n",
    "    if num2>=num3:\n",
    "        print(\"{} is greater\".format(num2))\n",
    "    else:\n",
    "        print(\"{} is greater\".format(num3))"
   ]
  },
  {
   "cell_type": "markdown",
   "id": "34d3f0b1-f539-4da3-9e2e-b8b7dbcbaadb",
   "metadata": {},
   "source": [
    "## List Comprehension"
   ]
  },
  {
   "cell_type": "code",
   "execution_count": 1,
   "id": "1c49cac2-1494-4860-9e9f-41fb5eeeb32a",
   "metadata": {},
   "outputs": [
    {
     "name": "stdout",
     "output_type": "stream",
     "text": [
      "[(0, 0), (1, 1), (2, 4), (3, 9), (4, 16), (5, 25), (6, 36), (7, 49), (8, 64), (9, 81)]\n"
     ]
    }
   ],
   "source": [
    "l1=[(i,i*i) for i in range(0,10)]\n",
    "print(l1)"
   ]
  },
  {
   "cell_type": "markdown",
   "id": "ca99d6c1-53b7-4499-a763-8a195d83d2a1",
   "metadata": {},
   "source": [
    "## Matrix Transpose"
   ]
  },
  {
   "cell_type": "code",
   "execution_count": 2,
   "id": "4aa93dc6-fc43-4130-bb8c-ce5d2dcc034d",
   "metadata": {},
   "outputs": [
    {
     "name": "stdout",
     "output_type": "stream",
     "text": [
      "[[1, 5, 9], [2, 6, 10], [3, 7, 11], [4, 8, 12]]\n"
     ]
    }
   ],
   "source": [
    "l1=[[1,2,3,4],[5,6,7,8],[9,10,11,12]]\n",
    "transpose=[]\n",
    "for i in range(0,4):\n",
    "    lst=[]\n",
    "    for row in l1:\n",
    "        lst.append(row[i])\n",
    "    transpose.append(lst)\n",
    "\n",
    "print(transpose)\n",
    "    "
   ]
  },
  {
   "cell_type": "markdown",
   "id": "2a268c3d-7a5b-49d1-bd03-9455059a6b77",
   "metadata": {},
   "source": [
    "## Instance Variable "
   ]
  },
  {
   "cell_type": "code",
   "execution_count": 3,
   "id": "cc7a3621-6bf6-46b3-b1f0-fe127df69bff",
   "metadata": {},
   "outputs": [
    {
     "name": "stdout",
     "output_type": "stream",
     "text": [
      "True\n"
     ]
    }
   ],
   "source": [
    "print(isinstance(3.6,float))"
   ]
  },
  {
   "cell_type": "code",
   "execution_count": 10,
   "id": "841ed8f5-9381-437f-ab48-775c1b8d6ccf",
   "metadata": {},
   "outputs": [
    {
     "name": "stdout",
     "output_type": "stream",
     "text": [
      "True\n"
     ]
    }
   ],
   "source": [
    "print(isinstance(3,int))"
   ]
  },
  {
   "cell_type": "code",
   "execution_count": 21,
   "id": "22a4e422-448d-4090-86bc-98d5b1bb8028",
   "metadata": {},
   "outputs": [
    {
     "name": "stdout",
     "output_type": "stream",
     "text": [
      "<class 'dict'>\n",
      "['__class__', '__class_getitem__', '__contains__', '__delattr__', '__delitem__', '__dir__', '__doc__', '__eq__', '__format__', '__ge__', '__getattribute__', '__getitem__', '__getstate__', '__gt__', '__hash__', '__init__', '__init_subclass__', '__ior__', '__iter__', '__le__', '__len__', '__lt__', '__ne__', '__new__', '__or__', '__reduce__', '__reduce_ex__', '__repr__', '__reversed__', '__ror__', '__setattr__', '__setitem__', '__sizeof__', '__str__', '__subclasshook__', 'clear', 'copy', 'fromkeys', 'get', 'items', 'keys', 'pop', 'popitem', 'setdefault', 'update', 'values']\n"
     ]
    }
   ],
   "source": [
    "ch={}\n",
    "print(type(ch))\n",
    "print(dir(ch))"
   ]
  },
  {
   "cell_type": "markdown",
   "id": "d3afa4e5-725c-4e28-a28e-de2d8e9a7786",
   "metadata": {},
   "source": [
    "## Occurance of Character"
   ]
  },
  {
   "cell_type": "code",
   "execution_count": 6,
   "id": "d254a69c-6ba2-4bb4-95d1-df57febae202",
   "metadata": {},
   "outputs": [
    {
     "name": "stdin",
     "output_type": "stream",
     "text": [
      "Enter Your Name: Sashikanta\n"
     ]
    },
    {
     "name": "stdout",
     "output_type": "stream",
     "text": [
      "{'S': 1, 'a': 3, 's': 1, 'h': 1, 'i': 1, 'k': 1, 'n': 1, 't': 1}\n"
     ]
    }
   ],
   "source": [
    "Name=input(\"Enter Your Name:\")\n",
    "lst=list(Name)\n",
    "check={}\n",
    "for i in lst:\n",
    "    if i not in check:\n",
    "        check[i]=1\n",
    "    else:\n",
    "        check[i]+=1\n",
    "\n",
    "print(check)\n"
   ]
  },
  {
   "cell_type": "markdown",
   "id": "01620b97-31d1-464d-98f0-fb99eef4e43c",
   "metadata": {},
   "source": [
    "## Occurance Of Number"
   ]
  },
  {
   "cell_type": "code",
   "execution_count": 8,
   "id": "bd20bcf9-cbb7-45c9-b489-be36beeab46d",
   "metadata": {},
   "outputs": [
    {
     "name": "stdout",
     "output_type": "stream",
     "text": [
      "1 : 3\n",
      "10 : 1\n",
      "3 : 2\n",
      "90 : 2\n",
      "6 : 3\n",
      "4 : 1\n",
      "5 : 1\n",
      "7 : 2\n",
      "2 : 2\n"
     ]
    }
   ],
   "source": [
    "lst=[1,10,3,90,6,1,90,3,4,5,6,7,2,2,1,6,7]\n",
    "dic={}\n",
    "for i in lst:\n",
    "    if i not in dic:\n",
    "        dic[i]=1\n",
    "    else:\n",
    "        dic[i]+=1\n",
    "\n",
    "for i,j in dic.items():\n",
    "    print(i,\":\",j)"
   ]
  },
  {
   "cell_type": "markdown",
   "id": "4812b552-ffb9-4c24-9912-ee6e5bde331f",
   "metadata": {},
   "source": [
    "## Occurance of Word "
   ]
  },
  {
   "cell_type": "code",
   "execution_count": 11,
   "id": "d3c696d0-d006-49c1-9a6b-b6fa0a5a867c",
   "metadata": {},
   "outputs": [
    {
     "name": "stdin",
     "output_type": "stream",
     "text": [
      "Enter your Name: This is a playground where we play everyday.Now this is become barren field\n"
     ]
    },
    {
     "name": "stdout",
     "output_type": "stream",
     "text": [
      "{'This': 1, 'is': 2, 'a': 1, 'playground': 1, 'where': 1, 'we': 1, 'play': 1, 'everyday.Now': 1, 'this': 1, 'become': 1, 'barren': 1, 'field': 1}\n"
     ]
    }
   ],
   "source": [
    "Name=input(\"Enter your Name:\")\n",
    "lst=Name.split(\" \")\n",
    "dic={}\n",
    "for i in lst:\n",
    "    if i not in dic:\n",
    "        dic[i]=1\n",
    "    else:\n",
    "        dic[i]+=1\n",
    "\n",
    "print(dic)"
   ]
  },
  {
   "cell_type": "markdown",
   "id": "c935f9dd-8121-43cf-aaca-6dd828e3d2cb",
   "metadata": {},
   "source": [
    "## print the Unique Element of The List"
   ]
  },
  {
   "cell_type": "code",
   "execution_count": 12,
   "id": "82821327-8fda-430c-a748-48a627cdcc9b",
   "metadata": {},
   "outputs": [
    {
     "name": "stdout",
     "output_type": "stream",
     "text": [
      "[1, 2, 3, 4, 5, 6, 7, 8, 9]\n"
     ]
    }
   ],
   "source": [
    "l1=[1,2,3,4,5,6,3,4,5,6,7,8,6,7,6,7,9]\n",
    "lst=[]\n",
    "for i in l1:\n",
    "    if i not in lst:\n",
    "        lst.append(i)\n",
    "print(lst)"
   ]
  },
  {
   "cell_type": "markdown",
   "id": "b87647d4-87de-4f26-b9d4-f02053bd2c42",
   "metadata": {},
   "source": [
    "## Check Wheather a String is pallindrom or Not without using a Method"
   ]
  },
  {
   "cell_type": "code",
   "execution_count": 7,
   "id": "88c81616-9d89-46f1-8c0d-19eabbf7a3ae",
   "metadata": {},
   "outputs": [
    {
     "name": "stdin",
     "output_type": "stream",
     "text": [
      "Enter Your Name: dada\n"
     ]
    },
    {
     "name": "stdout",
     "output_type": "stream",
     "text": [
      "adad\n",
      "dada is not pallindrome\n"
     ]
    }
   ],
   "source": [
    "name=input(\"Enter Your Name:\")\n",
    "st=\"\"\n",
    "for i in range(-1,-(len(name)+1),-1):\n",
    "    st=st+name[i]\n",
    "    \n",
    "print(st)\n",
    "if st==name:\n",
    "    print(\"{} is pallindrome\".format(name))\n",
    "else:\n",
    "    print(\"{} is not pallindrome\".format(name))"
   ]
  },
  {
   "cell_type": "code",
   "execution_count": 6,
   "id": "909676bb-f82b-4e3c-ae9a-fa6761aac0eb",
   "metadata": {},
   "outputs": [
    {
     "name": "stdin",
     "output_type": "stream",
     "text": [
      "Enter Your Name: dada\n"
     ]
    },
    {
     "name": "stdout",
     "output_type": "stream",
     "text": [
      "Not Pallindrome\n"
     ]
    }
   ],
   "source": [
    "name=input(\"Enter Your Name:\")\n",
    "st=name[::-1]\n",
    "if st==name:\n",
    "    print(\"Pallindrome\")\n",
    "else:\n",
    "    print(\"Not Pallindrome\")"
   ]
  },
  {
   "cell_type": "code",
   "execution_count": 13,
   "id": "81ccca59-e355-4ccc-8f5d-1475d0a2f879",
   "metadata": {},
   "outputs": [
    {
     "name": "stdout",
     "output_type": "stream",
     "text": [
      "pallindrome\n"
     ]
    }
   ],
   "source": [
    "s=\"madam\"\n",
    "st=reversed(s)\n",
    "l=list(st)\n",
    "if list(s)==l:\n",
    "    print(\"pallindrome\")\n",
    "else:\n",
    "    print(\"not pallindrome\")"
   ]
  },
  {
   "cell_type": "code",
   "execution_count": 17,
   "id": "e967bbf7-5f44-4725-ba61-7cf3005a99d7",
   "metadata": {},
   "outputs": [
    {
     "name": "stdout",
     "output_type": "stream",
     "text": [
      "My\n",
      "Name\n",
      "a\n",
      "am\n",
      "and\n",
      "i\n",
      "is\n",
      "sahoo\n",
      "sashikata\n",
      "student\n"
     ]
    }
   ],
   "source": [
    "name=\"My Name is sashikata sahoo and i am a student\"\n",
    "l=name.split()\n",
    "l.sort()\n",
    "for i in l:\n",
    "    print(i)"
   ]
  },
  {
   "cell_type": "code",
   "execution_count": 16,
   "id": "0f374177-4b25-4389-8091-55ae7e9a9fe7",
   "metadata": {},
   "outputs": [
    {
     "name": "stdout",
     "output_type": "stream",
     "text": [
      "My\n",
      "Name\n",
      "a\n",
      "am\n",
      "and\n",
      "i\n",
      "is\n",
      "sahoo\n",
      "sashikata\n",
      "student\n"
     ]
    }
   ],
   "source": [
    "name=\"My Name is sashikata sahoo and i am a student\"\n",
    "l=name.split()\n",
    "l1=sorted(l)\n",
    "for i in l1:\n",
    "    print(i)"
   ]
  },
  {
   "cell_type": "markdown",
   "id": "0f401b22-0d79-464e-ac74-7f819ce2709d",
   "metadata": {},
   "source": [
    "## Find HCF OF Two Number"
   ]
  },
  {
   "cell_type": "code",
   "execution_count": 19,
   "id": "7ae55edb-c8f4-4d13-baa6-481a896454ba",
   "metadata": {},
   "outputs": [
    {
     "name": "stdin",
     "output_type": "stream",
     "text": [
      "Enter First Number: 56\n",
      "Enter Second Number: 78\n"
     ]
    },
    {
     "name": "stdout",
     "output_type": "stream",
     "text": [
      "HCF of 56 and 78 is:2\n"
     ]
    }
   ],
   "source": [
    "\n",
    "def hcf_check(num1,num2):\n",
    "    smaller= num2 if num1>num2 else num1\n",
    "    hcf=1\n",
    "    for i in range(1,smaller+1):\n",
    "        if (num1%i==0) and (num2%i==0):\n",
    "            hcf=i\n",
    "    return hcf\n",
    "\n",
    "num1=int(input(\"Enter First Number:\"))\n",
    "num2=int(input(\"Enter Second Number:\"))\n",
    "res=hcf_check(num1,num2)\n",
    "print(\"HCF of {} and {} is:{}\".format(num1,num2,res))\n",
    "        "
   ]
  },
  {
   "cell_type": "markdown",
   "id": "84e5ddce-2637-4d71-81eb-e07aaf57e89a",
   "metadata": {},
   "source": [
    "# Built in Method in Python"
   ]
  },
  {
   "cell_type": "code",
   "execution_count": 18,
   "id": "f044a8cf-8fcc-40b7-a8a0-22756637240e",
   "metadata": {},
   "outputs": [
    {
     "name": "stdout",
     "output_type": "stream",
     "text": [
      "17\n",
      "False\n",
      "True\n",
      "True\n",
      "['__add__', '__class__', '__class_getitem__', '__contains__', '__delattr__', '__delitem__', '__dir__', '__doc__', '__eq__', '__format__', '__ge__', '__getattribute__', '__getitem__', '__getstate__', '__gt__', '__hash__', '__iadd__', '__imul__', '__init__', '__init_subclass__', '__iter__', '__le__', '__len__', '__lt__', '__mul__', '__ne__', '__new__', '__reduce__', '__reduce_ex__', '__repr__', '__reversed__', '__rmul__', '__setattr__', '__setitem__', '__sizeof__', '__str__', '__subclasshook__', 'append', 'clear', 'copy', 'count', 'extend', 'index', 'insert', 'pop', 'remove', 'reverse', 'sort']\n",
      "[-10, -9, -8, -7, -6, -5, -4, -3, -2, -1, 0, 1, 2, 3, 4, 5, 6, 7, 8, 9]\n",
      "[1, 2, 3, 4, 5, 6, 7, 8, 9]\n",
      "19 is present in index 0\n",
      "20 is present in index 1\n",
      "40 is present in index 2\n",
      "50 is present in index 3\n",
      "90 is present in index 4\n",
      "(3, 1)\n",
      "True\n",
      "[1, 4, 9, 16]\n",
      "24\n"
     ]
    }
   ],
   "source": [
    "# abs() Method # It always Gives the positive avlues\n",
    "print(abs(-17))\n",
    "\n",
    "# all() Method\n",
    "print(all([False,2,3,4])) # it take a iterable as argument if any element contains false or zero(0) then it gives False otherwise True\n",
    "print(all((7,2,3,4)))\n",
    "print(all({7,2,3,40,50}))\n",
    "\n",
    "#dir() Method\n",
    "d=[]\n",
    "print(dir(d)) # It gives  all the method that associated with a data structure\n",
    "\n",
    "#filter() Method  #It used inorder to filter the content\n",
    "l1=list(range(-10,10))\n",
    "print(l1)\n",
    "def positive(num):\n",
    "     if num>0:\n",
    "         return num\n",
    "\n",
    "res_lst=list(filter(positive,l1))\n",
    "print(res_lst)\n",
    "\n",
    "#enumerate() # It return both index and value of a List\n",
    "l2=[19,20,40,50,90]\n",
    "for i,j in enumerate(l2):\n",
    "    print(\"{1} is present in index {0}\".format(i,j))\n",
    "\n",
    "#divmod() # It Return Both (quotent ,remainder) inside a tuple\n",
    "print(divmod(10,3))\n",
    "\n",
    "#isinstance() #It used to check wheather the given value is the same data type or not \n",
    "print(isinstance([1,2,3],list))\n",
    "\n",
    "#map() Method\n",
    "def square(num):\n",
    "    return num**2\n",
    "l1=[1,2,3,4]\n",
    "lst=list(map(square,l1))\n",
    "print(lst)\n",
    "\n",
    "#reduce() Mathod\n",
    "from functools import reduce \n",
    "def multiply(x,y):\n",
    "    return x*y\n",
    "l5=[1,2,3,4]\n",
    "print(reduce(multiply,l5))\n"
   ]
  },
  {
   "cell_type": "markdown",
   "id": "3f0fa568-a0df-4860-8377-a8fbbc6a3471",
   "metadata": {},
   "source": [
    "## Doctionary Comprehension"
   ]
  },
  {
   "cell_type": "code",
   "execution_count": 29,
   "id": "5a7c402c-7657-4457-95e2-3ca1f0be3912",
   "metadata": {},
   "outputs": [
    {
     "name": "stdout",
     "output_type": "stream",
     "text": [
      "{'a': 2, 'b': 5, 'c': 7}\n",
      "{'b': 5, 'c': 7}\n",
      "{'bs': 50, 'cs': 70}\n",
      "{'Sashi': 0, 'Tukun': 0}\n",
      "{'a': 2, 'b': 5}\n"
     ]
    }
   ],
   "source": [
    "d={'a':2,'b':5,'c':7}\n",
    "print(d)\n",
    "com={ i:j for i,j in d.items() if j>4}\n",
    "print(com)\n",
    "com1={ i+'s':j*10 for i,j in d.items() if j>4}\n",
    "print(com1)\n",
    "\n",
    "################################ Create an Dictionary set value as 0.\n",
    "dic={}.fromkeys(['Sashi','Tukun'],0)\n",
    "print(dic)\n",
    "del d['c']\n",
    "print(d)"
   ]
  },
  {
   "cell_type": "markdown",
   "id": "abb25f0b-90d5-4a32-82f9-f09d5b822b24",
   "metadata": {},
   "source": [
    "## Recursion Concept"
   ]
  },
  {
   "cell_type": "code",
   "execution_count": 2,
   "id": "a87d565f-7acd-4b75-940d-dd3fb3b5d2e0",
   "metadata": {},
   "outputs": [
    {
     "name": "stdin",
     "output_type": "stream",
     "text": [
      "Enter a Number to findout factirial: 6\n"
     ]
    },
    {
     "name": "stdout",
     "output_type": "stream",
     "text": [
      "Factorial of 6 is:720\n"
     ]
    }
   ],
   "source": [
    "# Find The Factorisl of s Number Using Recursion\n",
    "\n",
    "def factorial(num):\n",
    "    return 1 if num==1 else num*factorial(num-1)\n",
    "\n",
    "num=int(input(\"Enter a Number to findout factirial:\"))\n",
    "res=factorial(num)\n",
    "print(\"Factorial of {n} is:{f}\".format(n=num,f=res))"
   ]
  },
  {
   "cell_type": "code",
   "execution_count": 5,
   "id": "7090bd5c-596a-4314-87e5-3fb5254b7ab2",
   "metadata": {},
   "outputs": [
    {
     "name": "stdin",
     "output_type": "stream",
     "text": [
      "Enter the terms: 6\n"
     ]
    },
    {
     "name": "stdout",
     "output_type": "stream",
     "text": [
      "0\n",
      "1\n",
      "1\n",
      "2\n",
      "3\n",
      "5\n"
     ]
    }
   ],
   "source": [
    "# Finnd the fibonacci series using recursion\n",
    "\n",
    "def fibonacci(num):\n",
    "    return num if num<=1 else fibonacci(num-1)+fibonacci(num-2)\n",
    "\n",
    "n=int(input(\"Enter the terms:\"))\n",
    "for i in range(n):\n",
    "    print(fibonacci(i))\n"
   ]
  },
  {
   "cell_type": "markdown",
   "id": "03fa2979-56fc-4d1a-a78a-84c712a9fb34",
   "metadata": {},
   "source": [
    "## Find Out the common element between two List"
   ]
  },
  {
   "cell_type": "code",
   "execution_count": 9,
   "id": "ae384b4a-6269-4671-8508-1518000987a7",
   "metadata": {},
   "outputs": [
    {
     "name": "stdout",
     "output_type": "stream",
     "text": [
      "90 38 17 \n",
      "20 30 50 "
     ]
    }
   ],
   "source": [
    "l1=[17,2,89,90,38]\n",
    "l2=[99,90,67,77,88,33,44,38,17]\n",
    "# Let Take a Dictionary and store all the elements inside it.\n",
    "d1={}\n",
    "for i in l1:\n",
    "    if i not in d1:\n",
    "        d1[i]=1\n",
    "        \n",
    "for i in l2:\n",
    "    if i in d1:\n",
    "        print(i,end=\" \")\n",
    "print()\n",
    "\n",
    "# Another Way to find the comman Elements.\n",
    "l3=[10,20,30,40,50]\n",
    "l4=[99,90,3,4,5,6,8,9,20,30,55,50]\n",
    "\n",
    "for i in l3:\n",
    "    for j in l4:\n",
    "        if j==i:\n",
    "            print(j,end=\" \")\n",
    "    \n",
    "\n"
   ]
  },
  {
   "cell_type": "markdown",
   "id": "8c0a8212-0ef7-43ad-90c9-e6bc2799bea0",
   "metadata": {},
   "source": [
    "## Binary Search on a List"
   ]
  },
  {
   "cell_type": "code",
   "execution_count": 56,
   "id": "d419515a-b3d0-4ac7-8699-57989ea06f3b",
   "metadata": {},
   "outputs": [
    {
     "name": "stdout",
     "output_type": "stream",
     "text": [
      "Element present\n"
     ]
    }
   ],
   "source": [
    "import pdb as p\n",
    "def binary_search(arr,i,r,key):\n",
    "    if i<=r:\n",
    "        #p.set_trace()\n",
    "        mid=(i+r)//2\n",
    "        if arr[mid]==key:\n",
    "            return mid\n",
    "        elif key<arr[mid]:\n",
    "            return binary_search(arr,i,mid-1,key)\n",
    "        else:\n",
    "            return binary_search(arr,mid+1,r,key)\n",
    "    else:\n",
    "        return 0\n",
    "\n",
    "l1=[10,30,50,60,70,80,90]\n",
    "l=len(l1)\n",
    "res=binary_search(l1,0,6,30)\n",
    "if res:\n",
    "    print(\"Element present\")\n",
    "else:\n",
    "    print(\"Element is not present\")"
   ]
  },
  {
   "cell_type": "code",
   "execution_count": 17,
   "id": "c9664dbb-f1fa-435a-8031-21da0b485592",
   "metadata": {},
   "outputs": [
    {
     "data": {
      "text/plain": [
       "['ArithmeticError',\n",
       " 'AssertionError',\n",
       " 'AttributeError',\n",
       " 'BaseException',\n",
       " 'BaseExceptionGroup',\n",
       " 'BlockingIOError',\n",
       " 'BrokenPipeError',\n",
       " 'BufferError',\n",
       " 'BytesWarning',\n",
       " 'ChildProcessError',\n",
       " 'ConnectionAbortedError',\n",
       " 'ConnectionError',\n",
       " 'ConnectionRefusedError',\n",
       " 'ConnectionResetError',\n",
       " 'DeprecationWarning',\n",
       " 'EOFError',\n",
       " 'Ellipsis',\n",
       " 'EncodingWarning',\n",
       " 'EnvironmentError',\n",
       " 'Exception',\n",
       " 'ExceptionGroup',\n",
       " 'False',\n",
       " 'FileExistsError',\n",
       " 'FileNotFoundError',\n",
       " 'FloatingPointError',\n",
       " 'FutureWarning',\n",
       " 'GeneratorExit',\n",
       " 'IOError',\n",
       " 'ImportError',\n",
       " 'ImportWarning',\n",
       " 'IndentationError',\n",
       " 'IndexError',\n",
       " 'InterruptedError',\n",
       " 'IsADirectoryError',\n",
       " 'KeyError',\n",
       " 'KeyboardInterrupt',\n",
       " 'LookupError',\n",
       " 'MemoryError',\n",
       " 'ModuleNotFoundError',\n",
       " 'NameError',\n",
       " 'None',\n",
       " 'NotADirectoryError',\n",
       " 'NotImplemented',\n",
       " 'NotImplementedError',\n",
       " 'OSError',\n",
       " 'OverflowError',\n",
       " 'PendingDeprecationWarning',\n",
       " 'PermissionError',\n",
       " 'ProcessLookupError',\n",
       " 'PythonFinalizationError',\n",
       " 'RecursionError',\n",
       " 'ReferenceError',\n",
       " 'ResourceWarning',\n",
       " 'RuntimeError',\n",
       " 'RuntimeWarning',\n",
       " 'StopAsyncIteration',\n",
       " 'StopIteration',\n",
       " 'SyntaxError',\n",
       " 'SyntaxWarning',\n",
       " 'SystemError',\n",
       " 'SystemExit',\n",
       " 'TabError',\n",
       " 'TimeoutError',\n",
       " 'True',\n",
       " 'TypeError',\n",
       " 'UnboundLocalError',\n",
       " 'UnicodeDecodeError',\n",
       " 'UnicodeEncodeError',\n",
       " 'UnicodeError',\n",
       " 'UnicodeTranslateError',\n",
       " 'UnicodeWarning',\n",
       " 'UserWarning',\n",
       " 'ValueError',\n",
       " 'Warning',\n",
       " 'WindowsError',\n",
       " 'ZeroDivisionError',\n",
       " '_IncompleteInputError',\n",
       " '__IPYTHON__',\n",
       " '__build_class__',\n",
       " '__debug__',\n",
       " '__doc__',\n",
       " '__import__',\n",
       " '__loader__',\n",
       " '__name__',\n",
       " '__package__',\n",
       " '__spec__',\n",
       " 'abs',\n",
       " 'aiter',\n",
       " 'all',\n",
       " 'anext',\n",
       " 'any',\n",
       " 'ascii',\n",
       " 'bin',\n",
       " 'bool',\n",
       " 'breakpoint',\n",
       " 'bytearray',\n",
       " 'bytes',\n",
       " 'callable',\n",
       " 'chr',\n",
       " 'classmethod',\n",
       " 'compile',\n",
       " 'complex',\n",
       " 'copyright',\n",
       " 'credits',\n",
       " 'delattr',\n",
       " 'dict',\n",
       " 'dir',\n",
       " 'display',\n",
       " 'divmod',\n",
       " 'enumerate',\n",
       " 'eval',\n",
       " 'exec',\n",
       " 'execfile',\n",
       " 'filter',\n",
       " 'float',\n",
       " 'format',\n",
       " 'frozenset',\n",
       " 'get_ipython',\n",
       " 'getattr',\n",
       " 'globals',\n",
       " 'hasattr',\n",
       " 'hash',\n",
       " 'help',\n",
       " 'hex',\n",
       " 'id',\n",
       " 'input',\n",
       " 'int',\n",
       " 'isinstance',\n",
       " 'issubclass',\n",
       " 'iter',\n",
       " 'len',\n",
       " 'license',\n",
       " 'list',\n",
       " 'locals',\n",
       " 'map',\n",
       " 'max',\n",
       " 'memoryview',\n",
       " 'min',\n",
       " 'next',\n",
       " 'object',\n",
       " 'oct',\n",
       " 'open',\n",
       " 'ord',\n",
       " 'pow',\n",
       " 'print',\n",
       " 'property',\n",
       " 'range',\n",
       " 'repr',\n",
       " 'reversed',\n",
       " 'round',\n",
       " 'runfile',\n",
       " 'set',\n",
       " 'setattr',\n",
       " 'slice',\n",
       " 'sorted',\n",
       " 'staticmethod',\n",
       " 'str',\n",
       " 'sum',\n",
       " 'super',\n",
       " 'tuple',\n",
       " 'type',\n",
       " 'vars',\n",
       " 'zip']"
      ]
     },
     "execution_count": 17,
     "metadata": {},
     "output_type": "execute_result"
    }
   ],
   "source": [
    "import pdb as p\n",
    "dir(__builtins__) # To Know all Type Of Exception. It Given a List of All type of exception."
   ]
  },
  {
   "cell_type": "code",
   "execution_count": 35,
   "id": "060468ff-a00b-4527-b02c-8275efd7ec68",
   "metadata": {},
   "outputs": [
    {
     "name": "stdout",
     "output_type": "stream",
     "text": [
      "Sahoo\n"
     ]
    }
   ],
   "source": [
    "if 0:\n",
    "    print(\"Sashi\")\n",
    "else:\n",
    "    print(\"Sahoo\")"
   ]
  },
  {
   "cell_type": "code",
   "execution_count": null,
   "id": "28ee1513-fa7f-4183-a070-7ef689cb4ac4",
   "metadata": {},
   "outputs": [],
   "source": []
  }
 ],
 "metadata": {
  "kernelspec": {
   "display_name": "Python 3 (ipykernel)",
   "language": "python",
   "name": "python3"
  },
  "language_info": {
   "codemirror_mode": {
    "name": "ipython",
    "version": 3
   },
   "file_extension": ".py",
   "mimetype": "text/x-python",
   "name": "python",
   "nbconvert_exporter": "python",
   "pygments_lexer": "ipython3",
   "version": "3.13.5"
  }
 },
 "nbformat": 4,
 "nbformat_minor": 5
}

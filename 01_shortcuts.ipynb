{
 "cells": [
  {
   "cell_type": "code",
   "execution_count": null,
   "id": "44d20f80-2521-4543-852d-7ebbd34a7ddf",
   "metadata": {},
   "outputs": [],
   "source": [
    "## short cut:\n",
    "Esc: Cell command or Go out of the cell\n",
    "M - Markdown\n",
    "Y - Code\n",
    "'-': Bullet points\n",
    "A: Insert cell above\n",
    "B: Insert cell below\n",
    "Enter/Double click: Go inside cell\n",
    "D,D - To delete a cell"
   ]
  },
  {
   "cell_type": "markdown",
   "id": "60431f31-5898-4c2c-80f6-c895eed3db75",
   "metadata": {},
   "source": [
    "jghiuorkhahhadspiueier"
   ]
  },
  {
   "cell_type": "markdown",
   "id": "a470897a-f3b3-40cc-819d-5486f1766581",
   "metadata": {},
   "source": [
    " Greater Number Between Three Number.\n",
    " - hfhgff\n",
    " - jfdgjf"
   ]
  },
  {
   "cell_type": "code",
   "execution_count": null,
   "id": "eaa65d59-aa57-40b8-82e9-2d5b8a28f89a",
   "metadata": {
    "collapsed": true,
    "jupyter": {
     "outputs_hidden": true
    }
   },
   "outputs": [],
   "source": [
    "\n",
    "a=int(input(\"Enter Your First Number:\"))\n",
    "b=int(input(\"Enter Your Second Number:\"))\n",
    "c=int(input(\"Enter Your Third Number:\"))\n",
    "if a>=b:\n",
    "      if a>=c:\n",
    "            print(\"{} is greater\".format(a))\n",
    "      else:\n",
    "          print(\"{} is greater\".format(c))\n",
    "else:\n",
    "    if b>=c:\n",
    "        print(\"{} is greater\".format(b))\n",
    "    else:\n",
    "        print(\"{} is greater\".format(c))\n"
   ]
  },
  {
   "cell_type": "code",
   "execution_count": 9,
   "id": "479a2d32-864f-4cfb-90d2-ffe9ec6a3afa",
   "metadata": {
    "collapsed": true,
    "jupyter": {
     "outputs_hidden": true,
     "source_hidden": true
    }
   },
   "outputs": [
    {
     "name": "stdout",
     "output_type": "stream",
     "text": [
      "10\n",
      "20\n",
      "68\n",
      "90\n"
     ]
    }
   ],
   "source": [
    "# While Loop \n",
    "l=[10,20,68,90]\n",
    "i=0\n",
    "while i<len(l):\n",
    "    print(l[i])\n",
    "    i+=1"
   ]
  },
  {
   "cell_type": "code",
   "execution_count": null,
   "id": "458c0d1f-6512-4d7c-8eee-b3d1f2346d87",
   "metadata": {},
   "outputs": [],
   "source": [
    "# Check a Number is Prime or Not\n",
    "num=int(input(\"Enter a Number:\"))\n",
    "i=2\n",
    "isPrime=False\n",
    "while i<num:\n",
    "    if num%i==0:\n",
    "        isPrime=True\n",
    "    i+=1\n",
    "\n",
    "\n",
    "if isPrime:\n",
    "    print(\"The Number {0} is Not a Prime Number\".format(num))\n",
    "else:\n",
    "    print(\"The Number {0} is a Prime Number\".format(num))"
   ]
  },
  {
   "cell_type": "code",
   "execution_count": 1,
   "id": "de2dbc24-2bd6-4b5c-a2be-2cf567b7d365",
   "metadata": {},
   "outputs": [
    {
     "data": {
      "text/plain": [
       "6"
      ]
     },
     "execution_count": 1,
     "metadata": {},
     "output_type": "execute_result"
    }
   ],
   "source": [
    "6"
   ]
  },
  {
   "cell_type": "code",
   "execution_count": 4,
   "id": "20b8a52f-5d7e-4ae6-b5ff-0346de40ae2e",
   "metadata": {},
   "outputs": [],
   "source": [
    "import numpy as np\n",
    "import seaborn as sns\n"
   ]
  },
  {
   "cell_type": "code",
   "execution_count": 8,
   "id": "ee61b5b3-b6c1-40a8-8b7d-19a60c1a5796",
   "metadata": {
    "scrolled": true
   },
   "outputs": [
    {
     "name": "stdout",
     "output_type": "stream",
     "text": [
      "[ 2.71699763  2.80635359  1.76808432  3.08172506  1.85285542  0.52051216\n",
      "  1.29393441  1.81756005  1.52548081  4.0632983   1.63083963  1.20576749\n",
      "  3.30822649  2.79754635  1.00229067  2.80237532  3.87369917  0.77963541\n",
      "  3.8473192   0.44951666  2.4612266   0.27281862  3.38128092  2.39423964\n",
      "  2.65258326  2.56512957  2.25761637  1.28579323  1.23604991  1.60187826\n",
      "  2.11083227  1.31083133  3.23130274  2.10173613  1.75486664  2.33621629\n",
      "  1.34030915  1.59009737 -0.55904387  1.96778168  3.01999292  3.69071612\n",
      " -0.33213948  2.48126312  1.3091737   2.42166776  2.0041787   2.17919544\n",
      "  3.21215247  1.19705564  4.83917893  2.57873563  3.78536635  2.82060041\n",
      "  0.14448023  2.78691339  1.73728691  0.81666971  2.61506551  3.62532432\n",
      "  1.21566155  3.0006757   2.17642056  1.59454648  0.93633223  3.03472978\n",
      "  3.10729829  2.50083484  0.9660886   1.91973297  1.18121231  2.79992174\n",
      "  1.91110713  1.888644    1.33038497  4.21651659  2.5138737   2.55487041\n",
      "  1.59943574  1.69194856  0.50883221  2.18412504  2.36579206  2.41919814\n",
      "  1.51021688  4.15332015  1.07317028  2.31294304  0.87416294  1.93373488\n",
      "  1.80484427  1.83836793  0.34544357  1.94050842  4.2686637  -0.1547627\n",
      "  1.54465929  0.31438801  2.08218249  1.87861068]\n"
     ]
    },
    {
     "data": {
      "image/png": "[encoded data removed]",
      "text/plain": [
       "<Figure size 500x500 with 1 Axes>"
      ]
     },
     "metadata": {},
     "output_type": "display_data"
    }
   ],
   "source": [
    "x = np.random.normal(loc=2, scale=1, size=100)\n",
    "sns.displot(x, kind='kde')\n",
    "print(x)"
   ]
  },
  {
   "cell_type": "markdown",
   "id": "bfd7cdd1-f9ff-456d-a720-d6c464dbb2f5",
   "metadata": {},
   "source": [
    " ## GIT HUB Shortcut Key"
   ]
  },
  {
   "cell_type": "code",
   "execution_count": null,
   "id": "aafeee78-38d5-4a3c-acd3-5f1779fd417e",
   "metadata": {},
   "outputs": [],
   "source": [
    "# To Know and set The user Name\n",
    "$git config --global user.name name of the user\n",
    "        OR\n",
    "$ git config --global user.name\n",
    "\n",
    "# To Know and set The Email\n",
    "$git config --global user.email email of the user\n",
    "        OR\n",
    "$ git config --global user.email\n",
    "\n",
    "# To create a directory\n",
    "$ mkdir directory Name\n",
    "# To go incide The Directory\n",
    "$ cd directory name\n",
    "# to go inside the vs code from the command promprt\n",
    "$ code .\n",
    "$ git init\n",
    "#To know The Hidden Folder.\n",
    "$ ls -lart\n",
    "#To create a File\n",
    "$touch fileName\n",
    "#To Show the git status\n",
    "$ git status\n",
    "# To add the untracked file into staged area\n",
    "$ git add fileName.\n",
    "# Commit the file\n",
    "$ git commit filename\n",
    "        OR\n",
    "$ git commit -m \"Message that you want to print\"\n",
    "# To add all the file that is in untrack satge\n",
    "$ git add -A\n",
    "# To recovery the changes that done by some one that recovery is done only in before to add in stagging area\n",
    "$ git checkout filename\n",
    "# To recovery more than one file\n",
    "$ git checkout -f\n",
    "# to show all the commit\n",
    "$ git log\n",
    "# to clear The screen\n",
    "$ git clear\n",
    "# to view the particular commit\n",
    "$ git log -p -1(no of commit you want to view)\n",
    "# to comapre the changes with the previous file\n",
    "$ git diff\n",
    "# For compare satgging area file to last commited file\n",
    "$ git diff --staged\n",
    "# you can direct add and commit done by a single command\n",
    "$ git commit -a -m \"message\"\n",
    "# list your all file\n",
    "$ git ls\n",
    "# To delete a file from both staged area as well as from the folder\n",
    "$ git rm fileName\n",
    "# to delete the file from staging area not from the drive\n",
    "$ git rm --cached file name\n",
    "# To show the shortcut status\n",
    "$ git status -s\n",
    "# To make a ignore file\n",
    "$ touch .gitignore\n",
    "# To create a new Branch\n",
    "$ git branch branchName\n",
    "# To know how many branch are there \n",
    "$ git branch\n",
    "# To exchange or jump between branch\n",
    "$ git checkout branchname\n",
    "# To merze all the sub branch file into the main branch(master) , you must remember you must present in main i.e master branch while type the below ommand.\n",
    "$ git merge sub_branch_name\n",
    "# you can directly jump to the branch after create the branch\n",
    "$ git checkout -b branch_name\n"
   ]
  }
 ],
 "metadata": {
  "kernelspec": {
   "display_name": "Python 3 (ipykernel)",
   "language": "python",
   "name": "python3"
  },
  "language_info": {
   "codemirror_mode": {
    "name": "ipython",
    "version": 3
   },
   "file_extension": ".py",
   "mimetype": "text/x-python",
   "name": "python",
   "nbconvert_exporter": "python",
   "pygments_lexer": "ipython3",
   "version": "3.13.5"
  }
 },
 "nbformat": 4,
 "nbformat_minor": 5
}

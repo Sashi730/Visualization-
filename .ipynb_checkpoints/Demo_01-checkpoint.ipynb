{
 "cells": [
  {
   "cell_type": "code",
   "execution_count": 1,
   "id": "fd5e8ee8-87d3-402d-8569-b118bbf18e7a",
   "metadata": {},
   "outputs": [
    {
     "name": "stdout",
     "output_type": "stream",
     "text": [
      "30\n"
     ]
    }
   ],
   "source": [
    "a=10\n",
    "b=20\n",
    "print(a+b)\n"
   ]
  },
  {
   "cell_type": "code",
   "execution_count": null,
   "id": "92775992-ed62-4035-9472-19cd4bc5b536",
   "metadata": {},
   "outputs": [],
   "source": [
    "This is The Print Function That We Have Use in above Program.\n"
   ]
  },
  {
   "cell_type": "code",
   "execution_count": 2,
   "id": "903ee570-acf1-4536-bfa9-7bfd3b90ba35",
   "metadata": {},
   "outputs": [
    {
     "name": "stdin",
     "output_type": "stream",
     "text": [
      "Enter Your name: Sashi\n"
     ]
    },
    {
     "name": "stdout",
     "output_type": "stream",
     "text": [
      "Hey Sashi\n"
     ]
    }
   ],
   "source": [
    "a=input(\"Enter Your name:\")\n",
    "print(\"Hey\" ,a)"
   ]
  },
  {
   "cell_type": "code",
   "execution_count": 2,
   "id": "0af0fa68-d726-4892-8386-66367c67a0a9",
   "metadata": {},
   "outputs": [
    {
     "data": {
      "text/plain": [
       "8"
      ]
     },
     "execution_count": 2,
     "metadata": {},
     "output_type": "execute_result"
    }
   ],
   "source": [
    "8\n"
   ]
  },
  {
   "cell_type": "code",
   "execution_count": 3,
   "id": "6526b090-49a3-4c70-bbbf-7c6bcca52cd7",
   "metadata": {},
   "outputs": [
    {
     "data": {
      "text/plain": [
       "'sashi'"
      ]
     },
     "execution_count": 3,
     "metadata": {},
     "output_type": "execute_result"
    }
   ],
   "source": [
    "\"sashi\""
   ]
  },
  {
   "cell_type": "code",
   "execution_count": 5,
   "id": "e1285646-78a3-48cc-b95e-32cb3c6755a7",
   "metadata": {},
   "outputs": [
    {
     "name": "stdout",
     "output_type": "stream",
     "text": [
      "10\n"
     ]
    }
   ],
   "source": [
    "a=10\n",
    "print(a)"
   ]
  },
  {
   "cell_type": "code",
   "execution_count": 11,
   "id": "35038ed0-0767-48f0-83aa-fd78446f68ae",
   "metadata": {},
   "outputs": [
    {
     "data": {
      "text/plain": [
       "'Sashi'"
      ]
     },
     "execution_count": 11,
     "metadata": {},
     "output_type": "execute_result"
    }
   ],
   "source": [
    "\"Sashi\"\n"
   ]
  },
  {
   "cell_type": "code",
   "execution_count": null,
   "id": "ab727882-460f-4da4-8620-1b36def014d2",
   "metadata": {},
   "outputs": [],
   "source": []
  }
 ],
 "metadata": {
  "kernelspec": {
   "display_name": "Python 3 (ipykernel)",
   "language": "python",
   "name": "python3"
  },
  "language_info": {
   "codemirror_mode": {
    "name": "ipython",
    "version": 3
   },
   "file_extension": ".py",
   "mimetype": "text/x-python",
   "name": "python",
   "nbconvert_exporter": "python",
   "pygments_lexer": "ipython3",
   "version": "3.13.5"
  }
 },
 "nbformat": 4,
 "nbformat_minor": 5
}

{
 "cells": [
  {
   "cell_type": "code",
   "execution_count": 2,
   "id": "aa069b52-0d76-4c53-ac94-97a004a8bae3",
   "metadata": {
    "collapsed": true,
    "jupyter": {
     "outputs_hidden": true
    }
   },
   "outputs": [],
   "source": [
    "import numpy as np"
   ]
  },
  {
   "cell_type": "markdown",
   "id": "69798e86-2d45-47ef-acb5-c2a272088a31",
   "metadata": {},
   "source": [
    "## 1D Array Creation in numpy"
   ]
  },
  {
   "cell_type": "code",
   "execution_count": 22,
   "id": "3646e55b-b039-48ea-8383-1406092d8075",
   "metadata": {
    "collapsed": true,
    "jupyter": {
     "outputs_hidden": true
    }
   },
   "outputs": [
    {
     "name": "stdout",
     "output_type": "stream",
     "text": [
      "<class 'numpy.ndarray'>\n",
      "[1 2 3 4 5]\n",
      "int64\n",
      "5\n",
      "1\n",
      "(5,)\n",
      "4\n"
     ]
    }
   ],
   "source": [
    "arr=np.array([1,2,3,4,5]) \n",
    "print(type(arr))\n",
    "print(arr)\n",
    "print(arr.dtype) #data type of the array\n",
    "print(arr.size)\n",
    "print(arr.ndim)\n",
    "print(arr.shape)\n",
    "\n",
    "# Access The Element Of The array\n",
    "print(arr[3])"
   ]
  },
  {
   "cell_type": "markdown",
   "id": "22242383-1a78-47e6-8b57-3ecae0d18e8d",
   "metadata": {},
   "source": [
    "### 0D Array"
   ]
  },
  {
   "cell_type": "code",
   "execution_count": 16,
   "id": "796800e6-f458-42ff-b636-b92d175dba65",
   "metadata": {
    "collapsed": true,
    "jupyter": {
     "outputs_hidden": true
    }
   },
   "outputs": [
    {
     "name": "stdout",
     "output_type": "stream",
     "text": [
      "[[10]]\n",
      "int32\n",
      "1\n",
      "2\n",
      "(1, 1)\n",
      "[10]\n"
     ]
    }
   ],
   "source": [
    "a1=np.array(10,dtype='i4',ndmin=2) # set the dimension by user\n",
    "print(a1)       \n",
    "print(a1.dtype) #data type of the array\n",
    "print(a1.size)\n",
    "print(a1.ndim)\n",
    "print(a1.shape)\n",
    "\n",
    "# Access The Element Of The array\n",
    "print(a1[0])"
   ]
  },
  {
   "cell_type": "markdown",
   "id": "69c2f8dd-0481-4160-8f75-fdd375e4c49e",
   "metadata": {},
   "source": [
    "## 2D Array in The Numpy"
   ]
  },
  {
   "cell_type": "code",
   "execution_count": 62,
   "id": "88684e78-a9f5-45eb-ad3d-3d6aa9cb91e8",
   "metadata": {
    "collapsed": true,
    "jupyter": {
     "outputs_hidden": true
    }
   },
   "outputs": [
    {
     "name": "stdout",
     "output_type": "stream",
     "text": [
      "[[1, 2, 3], [4, 5, 6], [7, 8, 9]]\n",
      "3\n",
      "5\n",
      "7\n",
      "[7, 8, 9]\n",
      "5\n",
      "[[1, 100, 3], [4, 5, 6], [7, 8, 9]]\n",
      "[['1' '2']\n",
      " ['3' '4']]\n",
      "<U21\n"
     ]
    }
   ],
   "source": [
    "a1=[[1,2,3],[4,5,6],[7,8,9]]\n",
    "print(a1)\n",
    "print(a1[0][2])\n",
    "print(a1[1][1])\n",
    "print(a1[-1][-3])\n",
    "print(a1[-1])\n",
    "print(a1[-2][-2])\n",
    "a1[-3][-2]=100 # here you Can Assign Value to a elements\n",
    "print(a1)\n",
    "a2=np.array([[1,2],[3,'4']],) #it Automatically Converted it into string so you provide the Type\n",
    "print(a2)\n",
    "print(a2.dtype)"
   ]
  },
  {
   "cell_type": "markdown",
   "id": "19968028-1589-46f0-977a-6a3a04aef3bb",
   "metadata": {},
   "source": [
    "## 3D Array in Numpy"
   ]
  },
  {
   "cell_type": "code",
   "execution_count": 70,
   "id": "18efdb0a-beca-44f8-a765-a165859aad10",
   "metadata": {
    "collapsed": true,
    "jupyter": {
     "outputs_hidden": true
    }
   },
   "outputs": [
    {
     "name": "stdout",
     "output_type": "stream",
     "text": [
      "[[[1 2]\n",
      "  [3 4]]\n",
      "\n",
      " [[5 6]\n",
      "  [7 8]]]\n",
      "int64\n",
      "8\n",
      "3\n",
      "(2, 2, 2)\n",
      "1\n",
      "3\n",
      "6\n",
      "8\n",
      "7\n"
     ]
    }
   ],
   "source": [
    "a1=np.array([[[1,2],[3,4]],[[5,6],[7,8]]])\n",
    "print(a1)\n",
    "print(a1.dtype)\n",
    "print(a1.size)\n",
    "print(a1.ndim)\n",
    "print(a1.shape)\n",
    "\n",
    "# Acess The Element Of The 3D Array\n",
    "print(a1[0,0,0])\n",
    "print(a1[0,1,0])\n",
    "print(a1[1,0,1])\n",
    "print(a1[1,1,1])\n",
    "print(a1[-1,-1,-2])"
   ]
  },
  {
   "cell_type": "markdown",
   "id": "68b91dbf-594e-412c-9523-d94263059873",
   "metadata": {},
   "source": [
    "## Creating Different Type Of Numpy Array\n"
   ]
  },
  {
   "cell_type": "code",
   "execution_count": 58,
   "id": "a9222491-d8f5-4d7b-ad6e-27cd21ac05fe",
   "metadata": {
    "collapsed": true,
    "jupyter": {
     "outputs_hidden": true
    }
   },
   "outputs": [
    {
     "name": "stdout",
     "output_type": "stream",
     "text": [
      "[[0. 0. 0. 0.]\n",
      " [0. 0. 0. 0.]\n",
      " [0. 0. 0. 0.]]\n",
      "[[ 0.  0.  0.  0.]\n",
      " [ 0.  0. nan  0.]\n",
      " [ 0.  0.  0.  0.]]\n",
      "[[0 0 0]\n",
      " [0 0 0]\n",
      " [0 0 0]\n",
      " [0 0 0]]\n",
      "[[1 1]\n",
      " [1 1]]\n",
      "[[5 5 5 5]\n",
      " [5 5 5 5]\n",
      " [5 5 5 5]]\n",
      "[1 2 3 4 5 6 7 8 9]\n",
      "[[0.90699558 0.44145365 0.0217057  0.26182827]\n",
      " [0.32886819 0.62520854 0.0533297  0.68234868]\n",
      " [0.18001517 0.88436868 0.27622503 0.12327427]]\n",
      "[[0 7 5 0]\n",
      " [5 3 6 1]\n",
      " [2 5 6 6]]\n",
      "[[5 6 9 8]\n",
      " [9 7 6 6]\n",
      " [5 8 5 6]]\n",
      "[[1 0 0]\n",
      " [0 1 0]\n",
      " [0 0 1]]\n",
      "[ 1.   5.5 10. ]\n"
     ]
    }
   ],
   "source": [
    "# you have to be print array which contains only zeros values\n",
    "\n",
    "ar=np.zeros((3,4)) # Bydefault it return a float value\n",
    "print(ar)\n",
    "ar[1][2]=np.nan # You can add NAN Value to the Array\n",
    "print(ar)\n",
    "\n",
    "arr=np.zeros((4,3),dtype='i') # you caan set the dtype to int i.e i\n",
    "print(arr)\n",
    "\n",
    "arr1=np.ones((2,2),dtype='i') # Bydefault it return a float value\n",
    "print(arr1)\n",
    "\n",
    "arr3=np.full((3,4),5,dtype='i') # Bydefault it return a float value\n",
    "print(arr3)\n",
    "\n",
    "arr4=np.arange(1,10)\n",
    "print(arr4)\n",
    "arr4.reshape((3,3)) # The arr4 value remains same it does not affect the original arr4\n",
    "\n",
    "arr5=np.random.rand(3,4) # Generate Random Value\n",
    "print(arr5)\n",
    "\n",
    "arr6=np.random.randint(8,size=(3,4)) # Generate Random value From 0 to 8\n",
    "print(arr6)\n",
    "\n",
    "arr7=np.random.randint(5,10,size=(3,4)) # Generate Random Number Between 5 to 10\n",
    "print(arr7)\n",
    "\n",
    "arr8=np.identity(3,dtype='i') # Bydefault it return a float value so You Provide The dtype='i'\n",
    "print(arr8)\n",
    "\n",
    "arr9=np.linspace(1,10,3)\n",
    "print(arr9)\n"
   ]
  },
  {
   "cell_type": "markdown",
   "id": "20f1b5d0-c7e8-4115-82b2-6b5f838d3a54",
   "metadata": {
    "collapsed": true,
    "jupyter": {
     "outputs_hidden": true
    }
   },
   "source": [
    "## Slicing in 1D Array"
   ]
  },
  {
   "cell_type": "code",
   "execution_count": 75,
   "id": "be2ed0eb-1cab-45b5-97ac-51e45b2df3f2",
   "metadata": {
    "collapsed": true,
    "jupyter": {
     "outputs_hidden": true
    }
   },
   "outputs": [
    {
     "name": "stdout",
     "output_type": "stream",
     "text": [
      "[10 20 30 40 50]\n",
      "[50 40 30 20 10]\n",
      "[30 40 50]\n",
      "[10 20 30]\n",
      "[40 30 20 10]\n"
     ]
    }
   ],
   "source": [
    "arr=np.array([10,20,30,40,50])\n",
    "print(arr[::])\n",
    "print(arr[::-1])\n",
    "print(arr[2::])\n",
    "print(arr[:3:])\n",
    "print(arr[3::-1])"
   ]
  },
  {
   "cell_type": "markdown",
   "id": "825e20fc-6dd4-403e-9519-3283e55a71c4",
   "metadata": {},
   "source": [
    "## Slicing in 2D Array"
   ]
  },
  {
   "cell_type": "code",
   "execution_count": 6,
   "id": "d765c6b6-e62c-463d-9edd-28fd44cb32db",
   "metadata": {},
   "outputs": [
    {
     "name": "stdout",
     "output_type": "stream",
     "text": [
      "[[7, 8, 9], [4, 5, 6], [1, 2, 3]]\n"
     ]
    },
    {
     "ename": "TypeError",
     "evalue": "list indices must be integers or slices, not tuple",
     "output_type": "error",
     "traceback": [
      "\u001b[1;31m---------------------------------------------------------------------------\u001b[0m",
      "\u001b[1;31mTypeError\u001b[0m                                 Traceback (most recent call last)",
      "Cell \u001b[1;32mIn[6], line 3\u001b[0m\n\u001b[0;32m      1\u001b[0m a1\u001b[38;5;241m=\u001b[39m[[\u001b[38;5;241m1\u001b[39m,\u001b[38;5;241m2\u001b[39m,\u001b[38;5;241m3\u001b[39m],[\u001b[38;5;241m4\u001b[39m,\u001b[38;5;241m5\u001b[39m,\u001b[38;5;241m6\u001b[39m],[\u001b[38;5;241m7\u001b[39m,\u001b[38;5;241m8\u001b[39m,\u001b[38;5;241m9\u001b[39m]]\n\u001b[0;32m      2\u001b[0m \u001b[38;5;28mprint\u001b[39m(a1[::\u001b[38;5;241m-\u001b[39m\u001b[38;5;241m1\u001b[39m])\n\u001b[1;32m----> 3\u001b[0m \u001b[38;5;28mprint\u001b[39m(a1[ ::,  \u001b[38;5;241m1\u001b[39m::])\n",
      "\u001b[1;31mTypeError\u001b[0m: list indices must be integers or slices, not tuple"
     ]
    }
   ],
   "source": [
    "a1=[[1,2,3],[4,5,6],[7,8,9]]\n",
    "print(a1[::-1])\n",
    "print(a1[ ::,  1::])\n",
    "\n"
   ]
  },
  {
   "cell_type": "markdown",
   "id": "5d6232f5-b206-403e-a16c-be186c577779",
   "metadata": {},
   "source": [
    "# Craeting Structure Array"
   ]
  },
  {
   "cell_type": "code",
   "execution_count": 33,
   "id": "8df5689d-cda6-4d1f-93c5-9cd0eada2124",
   "metadata": {
    "collapsed": true,
    "jupyter": {
     "outputs_hidden": true
    }
   },
   "outputs": [
    {
     "name": "stdout",
     "output_type": "stream",
     "text": [
      "[('Sashi', 22, 65.) ('Ashish', 21, 55.) ('Priyam', 20, 62.)]\n",
      "('Sashi', 22, 65.0)\n",
      "['Sashi' 'Ashish' 'Priyam']\n",
      "[22 21 20]\n",
      "[65. 55. 62.]\n",
      "[('Sashi', 22, 65.) ('Ashish', 21, 55.) ('Priyam', 25, 62.)]\n",
      "[22 18 25]\n",
      "[('Sashi', 22, 65.) ('Ashish', 18, 55.) ('Priyam', 25, 62.)]\n",
      "[('kamal', 22, 65.) ('Binay', 21, 55.) ('Bapun', 20, 62.)]\n",
      "['kamal' 'Binay' 'Bapun']\n",
      "[22 21 20]\n",
      "[65. 55. 62.]\n",
      "[('sanjay', 22, 65.) ('Laxman', 21, 55.) ('khilar', 20, 62.)]\n",
      "['sanjay' 'Laxman' 'khilar']\n",
      "[22 21 20]\n",
      "[65. 55. 62.]\n",
      "[('ᙓ䊂iram', -2113929194, 65.) ('ᕍ䉜a',  1543503893, 55.)\n",
      " ('ᑊ䉸y',  2013265940, 62.)]\n"
     ]
    }
   ],
   "source": [
    "# First way to create Structure Array\n",
    "a1=np.array([('Sashi',22,65),('Ashish',21,55),('Priyam',20,62)],dtype=[('name','U10'),('age','i'),('weight','f')])\n",
    "print(a1)\n",
    "print(a1[0])\n",
    "print(a1['name']) # You can Print Name value\n",
    "print(a1['age'])  # You can Print age value\n",
    "print(a1['weight'])  # You can Print weight value\n",
    "a1[2][1]=25\n",
    "print(a1)\n",
    "a1[1]['age']=18 # You Change The Age Value\n",
    "print(a1['age'])\n",
    "print(a1)\n",
    "\n",
    "# Second Way to create structure Array\n",
    "a2=np.array([('kamal',22,65),('Binay',21,55),('Bapun',20,62)],dtype=('U10,i,f'))\n",
    "print(a2)\n",
    "print(a2['f0'])\n",
    "print(a2['f1'])\n",
    "print(a2['f2'])\n",
    "\n",
    "# Third Way to create the structure array\n",
    "a3=np.array([('sanjay',22,65),('Laxman',21,55),('khilar',20,62)],dtype={'names':['name','age','weight'],'formats':['U10','i','f']})\n",
    "print(a3)\n",
    "print(a3['name']) \n",
    "print(a3['age'])             # Here only the dtype format is going to be change.\n",
    "print(a3['weight'])        \n",
    "\n",
    "# Fourth Way to create the structure array\n",
    "\n",
    "a4=np.array([('Sairam',22,65),('Maa',21,55),('Jay',20,62)],dtype={'name':('U10',0),'age':('i',1),'weight':('f',2)})\n",
    "print(a4)\n",
    "\n"
   ]
  },
  {
   "cell_type": "markdown",
   "id": "8de04c1e-4ec5-4205-88a6-bc135b6b192a",
   "metadata": {},
   "source": [
    "# Broadcasting in Numpy"
   ]
  },
  {
   "cell_type": "code",
   "execution_count": 3,
   "id": "7792807e-fd4e-4f2e-af1d-2185ce66c5f4",
   "metadata": {
    "collapsed": true,
    "jupyter": {
     "outputs_hidden": true
    }
   },
   "outputs": [
    {
     "name": "stdout",
     "output_type": "stream",
     "text": [
      "[3 3 3]\n",
      "[8 8 8]\n",
      "[[4 4 4]\n",
      " [5 5 5]\n",
      " [6 6 6]]\n"
     ]
    },
    {
     "data": {
      "text/plain": [
       "'\\nb1=np.ones([10,9,8,7])\\nb2=np.zeros([1,7])\\nprint(b1+b2)\\n'"
      ]
     },
     "execution_count": 3,
     "metadata": {},
     "output_type": "execute_result"
    }
   ],
   "source": [
    "a1=np.full(3,(3,),dtype='i' )     # a1=np.zeros([3,],dtype='i') You can also write this way\n",
    "print(a1) \n",
    "a=a1+5 # Broadcasting is possible\n",
    "print(a)\n",
    "\n",
    "a2=np.array([[1],[2],[3]])\n",
    "print(a1+a2)\n",
    "\n",
    "#print(np.array([1,2,3,4])+np.array([5,6,7])) # Broadcasting is not possible\n",
    "\n",
    "\"\"\"\n",
    "b1=np.ones([2,3,5])\n",
    "b2=np.zeros([4,1,5])\n",
    "print(b1+b2)\n",
    "\"\"\"\n",
    "'''\n",
    "b1=np.ones([10,9,8,7])\n",
    "b2=np.zeros([1,7])\n",
    "print(b1+b2)\n",
    "'''"
   ]
  },
  {
   "cell_type": "markdown",
   "id": "3d0ad865-7f45-432e-b093-f48154e3382c",
   "metadata": {},
   "source": [
    "# Array Manipulation"
   ]
  },
  {
   "cell_type": "code",
   "execution_count": 35,
   "id": "42d91124-cc9f-44fb-a835-da2d127b14ec",
   "metadata": {
    "collapsed": true,
    "jupyter": {
     "outputs_hidden": true
    }
   },
   "outputs": [
    {
     "name": "stdout",
     "output_type": "stream",
     "text": [
      "[[ 8 10 12]\n",
      " [ 5  9 13]]\n",
      "[[ 8 10 12]\n",
      " [ 5  9 13]]\n",
      "[[-6 -6 -6]\n",
      " [ 3  1 -1]]\n",
      "[[-6 -6 -6]\n",
      " [ 3  1 -1]]\n",
      "[[ 7 16 27]\n",
      " [ 4 20 42]]\n",
      "[[ 7 16 27]\n",
      " [ 4 20 42]]\n",
      "[[0.14285714 0.25       0.33333333]\n",
      " [4.         1.25       0.85714286]]\n",
      "[ 6  8 10 12]\n",
      "8 10 12 5 9 13 8\n",
      "10\n",
      "12\n",
      "5\n",
      "9\n",
      "13\n",
      "8 is in index (0, 0)\n",
      "10 is in index (0, 1)\n",
      "12 is in index (0, 2)\n",
      "5 is in index (1, 0)\n",
      "9 is in index (1, 1)\n",
      "13 is in index (1, 2)\n",
      "[12  3  4  5 78  3  4  5]\n",
      "[[12  3  4  5]\n",
      " [78  3  4  5]]\n",
      "[12  3  4  5 78  3  4  5]\n",
      "[[12  3  4  5]\n",
      " [78  3  4  5]]\n",
      "[[[12 78]\n",
      "  [ 3  3]\n",
      "  [ 4  4]\n",
      "  [ 5  5]]]\n",
      "[[12 78]\n",
      " [ 3  3]\n",
      " [ 4  4]\n",
      " [ 5  5]]\n",
      "[[10 20]\n",
      " [30 40]\n",
      " [ 1  2]\n",
      " [ 3  4]]\n",
      "[[10 20  1  2]\n",
      " [30 40  3  4]]\n",
      "[array([10, 55]), array([90]), array([78])]\n",
      "[array([[10, 20]]), array([[30, 40]]), array([], shape=(0, 2), dtype=int64), array([], shape=(0, 2), dtype=int64)]\n",
      "(array([5, 7]),)\n",
      "(array([2, 3, 4, 5, 7]),)\n",
      "(array([1]), array([0]))\n",
      "[10 55 78 90]\n",
      "[[ 10  20 167]\n",
      " [  9 456 900]]\n",
      "[[167  20   9]\n",
      " [456 900  10]]\n",
      "[10 26 31]\n",
      "[ True  True  True False  True False False]\n",
      "[10 14 26 42]\n",
      "[False False False False False  True  True]\n",
      "[53 67]\n"
     ]
    }
   ],
   "source": [
    "# addition\n",
    "a1=np.array([[1,2,3],[4,5,6]])\n",
    "a2=np.array([[7,8,9],[1,4,7]])\n",
    "res=a1+a2\n",
    "print(res)\n",
    "print(np.add(a1,a2)) # Inbuilt Method\n",
    "# subtraction\n",
    "print(a1-a2)\n",
    "print(np.subtract(a1,a2))\n",
    "# Multiplication\n",
    "print(a1*a2)\n",
    "print(np.multiply(a1,a2))\n",
    "# Division\n",
    "print(a1/a2)\n",
    "x=np.array([1,2,3,4])\n",
    "y=np.array([5,6,7,8])\n",
    "print(x+y)\n",
    "\n",
    "# Iteration over matrix\n",
    "for i in res:\n",
    "    for j in i:\n",
    "        print(j,end=\" \")\n",
    "\n",
    "# Default Method\n",
    "for i in np.nditer(res):\n",
    "    print(i)\n",
    "# Enumerator \n",
    "for i,j in np.ndenumerate(res):\n",
    "    print(\"{1} is in index {0}\".format(i,j))\n",
    "\n",
    "#Concatenation of array\n",
    "a=np.array([12,3,4,5])\n",
    "b=np.array([78,3,4,5])\n",
    "c=np.concatenate((a,b)) # in concatenate the data in horizontally\n",
    "print(c)\n",
    "\n",
    "s=np.stack((a,b)) # Show The Element in column wise \n",
    "print(s)\n",
    "\n",
    "h=np.hstack((a,b)) # Horinzontal Stack \n",
    "print(h)\n",
    "\n",
    "v=np.vstack((a,b)) # Vertical Stack \n",
    "print(v)\n",
    "\n",
    "d=np.dstack((a,b)) # Deapth Satck \n",
    "print(d)\n",
    "\n",
    "x=np.stack((a,b),axis=1) # Show The Element is same as D stack\n",
    "print(x)\n",
    "\n",
    "\n",
    "####################################\n",
    "\n",
    "b1=np.array([[10,20],[30,40]])\n",
    "b2=np.array([[1,2],[3,4]])       # It Just Show The Array in 2D Format and this is same for axis=0\n",
    "print(np.concatenate((b1,b2),axis=0))\n",
    "\n",
    "print(np.concatenate((b1,b2),axis=1)) # It Print where axis=1 it is also Similar to Dstack() method.\n",
    "\n",
    "# Split The Array into different Parts\n",
    "\n",
    "st=np.array([10,55,90,78])\n",
    "print(np.array_split(st,3)) # Split The 1D Array.\n",
    "print(np.array_split(b1,4)) # Split 3D array\n",
    "\n",
    "# Searching in Array.......\n",
    "\n",
    "sr=np.array([1,5,2,34,2,4,3,4,5])\n",
    "x=np.where(sr==4)\n",
    "print(x) # It only return the index of the array.\n",
    "print(np.where(sr%2==0))\n",
    "\n",
    "print(np.where(b1==30)) # Search in 2D Array.\n",
    "\n",
    "#Sort The array....\n",
    "st=np.array([10,55,90,78])\n",
    "res=np.sort(st)\n",
    "print(res)\n",
    "\n",
    "b4=np.array([[167,20,10],[456,900,9]])\n",
    "r=np.sort(b4,axis=1)  # here bydefault the axis=1.\n",
    "print(r)\n",
    "\n",
    "s=np.sort(b4,axis=0)    # It sort the array element in column wise\n",
    "print(s)\n",
    "\n",
    "## Filter In Numpy....\n",
    "\n",
    "f1=np.array([10,14,26,31,42,53,67])\n",
    "l1=[True,False,True,True,False,False,False]\n",
    "print(f1[l1])\n",
    "\n",
    "l2=(f1%2==0) # This is the condition for filtering.\n",
    "print(l2)\n",
    "print(f1[l2])\n",
    "\n",
    "\n",
    "l3=(f1>50) # This is the condition for filtering.\n",
    "print(l3)\n",
    "print(f1[l3]) # Here The Content is return "
   ]
  },
  {
   "cell_type": "markdown",
   "id": "e09198b4-b1ab-4827-b89e-af0ed0ff4af8",
   "metadata": {},
   "source": [
    "## Function In Numpy"
   ]
  },
  {
   "cell_type": "code",
   "execution_count": 62,
   "id": "5a288334-240b-472a-9a1a-8804b0bf8048",
   "metadata": {
    "collapsed": true,
    "jupyter": {
     "outputs_hidden": true
    }
   },
   "outputs": [
    {
     "name": "stdout",
     "output_type": "stream",
     "text": [
      "5.0\n",
      "[1 5 9]\n",
      "15\n",
      "[[1 4 7]\n",
      " [2 5 8]\n",
      " [3 6 9]]\n",
      "8\n",
      "9\n",
      "1\n",
      "45\n",
      "362880\n",
      "2.581988897471611\n",
      "6.666666666666667\n",
      "[1 2 3 4 5 6 7 8 9]\n",
      "[1 2 3 4 5 6 7 8 9]\n",
      "[   1    2    3    4 1000    6    7    8    9]\n",
      "[1 2 3 4 5 6 7 8 9]\n",
      "[1 2 3 4 5 6 7 8 9]\n",
      "[  1   2 999   4   5   6   7   8   9]\n",
      "[  1   2 999   4   5   6   7   8   9]\n",
      "[10  4  7  9]\n",
      "[1 4 7 9]\n",
      "[1 4 7 9]\n",
      "[ 1  4 70  9]\n",
      "[ 1  4 70  9]\n",
      "[ 1  4 70  9]\n",
      "None\n",
      "None\n"
     ]
    }
   ],
   "source": [
    "a1=np.array([[1,2,3],[4,5,6],[7,8,9]])\n",
    "print(a1.mean()) # Find Out The Mean.\n",
    "print(a1.diagonal()) # Print The Diagonal Elements\n",
    "print(a1.trace()) # it return the sum of the diagonal element.\n",
    "print(a1.transpose()) # Transpose the matrix.\n",
    "print(np.ptp(a1)) # Peek to peek that means it show the difference between highest and lowest value in array.\n",
    "print(a1.max()) # print maximum value\n",
    "print(a1.min()) # Print The Minimum value.\n",
    "print(a1.sum()) # return the sum of all element.\n",
    "print(a1.prod()) # return the product of all the element.\n",
    "\n",
    "print(a1.std()) # Find The standard deviation\n",
    "print(a1.var()) # Find The variance \n",
    "\n",
    "a2=a1.reshape(-1)\n",
    "print(a2) # make 2D array into 1D Array.\n",
    "\n",
    "a3=a1.flatten()\n",
    "print(a3)  # it convert 2D array into 1D array. If you changes in flatten array the it does not impact the original array.\n",
    "a3[4]=1000\n",
    "print(a3)\n",
    "print(a2)\n",
    "\n",
    "a4=a1.ravel()\n",
    "print(a4)\n",
    "a4[2]=999\n",
    "print(a4) # it convert 2D array into 1D array. If you changes in ravel array the it  impact the original array.\n",
    "print(a2)\n",
    "\n",
    "# copy() and view() both are similar to flatten() and ravel()..........\n",
    "\n",
    "r=np.array([1,4,7,9])\n",
    "c=r.copy()\n",
    "c[0]=10\n",
    "print(c) # copy() does not affect original array.\n",
    "print(r)\n",
    "\n",
    "v=r.view()\n",
    "print(v)\n",
    "v[2]=70\n",
    "print(v) # view() affect both the array i.e original as well as view array\n",
    "print(r)\n",
    "\n",
    "print(v.base) # view() method return the reference of the original srrsy\n",
    "print(c.base) # copy() method return the None value\n",
    "\n",
    "\n",
    "##### Resize()########3\n",
    "\n",
    "d1=np.array([[1,2,3],[4,5,6]])\n",
    "d2=d1.resize((3,4),refcheck=False)\n",
    "print(d2)"
   ]
  },
  {
   "cell_type": "code",
   "execution_count": null,
   "id": "b2a8f1ce-e74a-47ea-868b-fa91325b20f0",
   "metadata": {},
   "outputs": [],
   "source": []
  }
 ],
 "metadata": {
  "kernelspec": {
   "display_name": "Python 3 (ipykernel)",
   "language": "python",
   "name": "python3"
  },
  "language_info": {
   "codemirror_mode": {
    "name": "ipython",
    "version": 3
   },
   "file_extension": ".py",
   "mimetype": "text/x-python",
   "name": "python",
   "nbconvert_exporter": "python",
   "pygments_lexer": "ipython3",
   "version": "3.13.5"
  }
 },
 "nbformat": 4,
 "nbformat_minor": 5
}
